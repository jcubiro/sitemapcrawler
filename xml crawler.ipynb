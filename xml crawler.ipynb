{
 "cells": [
  {
   "cell_type": "code",
   "execution_count": 10,
   "metadata": {},
   "outputs": [],
   "source": [
    "from bs4 import BeautifulSoup\n",
    "import requests\n",
    "import pandas as pd\n",
    "import re\n",
    "\n",
    "def get_sitemap(url):\n",
    "    get_url = requests.get(url)\n",
    "    if get_url.status_code == 200:\n",
    "        return get_url.text\n",
    "    else:\n",
    "        print('Could not retrieve the sitemap: %s.' % url)\n",
    "        \n",
    "\n",
    "soup = BeautifulSoup(s, 'lxml')\n",
    "\n",
    "        \n",
    "def process_sitemap(s):\n",
    "    soup = BeautifulSoup(s, 'lxml')\n",
    "    result = pd.DataFrame()\n",
    "    urls=soup.findAll('url')\n",
    "    for url in urls:\n",
    "        result=result.append({'url':url.loc.text,'last_modified':url.lastmod.text},ignore_index=True)\n",
    "    return result\n",
    "    \n",
    "def is_sub_sitemap(s):\n",
    "    if s.endswith('.xml') and 'sitemap' in s:\n",
    "        return True\n",
    "    else:\n",
    "        return False\n",
    "def parse_sitemap(s):\n",
    "    sitemap = process_sitemap(s)\n",
    "    result = []\n",
    "\n",
    "    while sitemap:\n",
    "        candidate = sitemap.pop()\n",
    "\n",
    "        if is_sub_sitemap(candidate):\n",
    "            sub_sitemap = get_sitemap(candidate)\n",
    "            for i in process_sitemap(sub_sitemap):\n",
    "                sitemap.append(i)\n",
    "        else:\n",
    "            result.append(candidate)\n",
    "\n",
    "    return result\n",
    "\n",
    "\n"
   ]
  },
  {
   "cell_type": "code",
   "execution_count": 39,
   "metadata": {},
   "outputs": [],
   "source": []
  }
 ],
 "metadata": {
  "kernelspec": {
   "display_name": "Python 3",
   "language": "python",
   "name": "python3"
  },
  "language_info": {
   "codemirror_mode": {
    "name": "ipython",
    "version": 3
   },
   "file_extension": ".py",
   "mimetype": "text/x-python",
   "name": "python",
   "nbconvert_exporter": "python",
   "pygments_lexer": "ipython3",
   "version": "3.7.6"
  }
 },
 "nbformat": 4,
 "nbformat_minor": 4
}
